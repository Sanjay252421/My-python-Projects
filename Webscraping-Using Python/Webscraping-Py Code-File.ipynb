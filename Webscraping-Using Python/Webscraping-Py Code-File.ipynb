{
  "cells": [
    {
      "cell_type": "code",
      "execution_count": null,
      "metadata": {
        "id": "szfUwAG7gzVZ"
      },
      "outputs": [],
      "source": [
        "from bs4 import BeautifulSoup\n",
        "import requests , openpyxl\n",
        "\n",
        "excel=openpyxl.Workbook()\n",
        "sheet=excel.active\n",
        "sheet.title=\"Top horror Movies\"\n",
        "sheet.append(['Rank','Movie Name','Released year','Runtime','Genre','Director-Name'])\n",
        "\n",
        "\n",
        "try:\n",
        "    response=requests.get(\"https://www.imdb.com/search/title/?title_type=feature&genres=horror\")\n",
        "    soup=BeautifulSoup(response.text,'html.parser')\n",
        "    #print(soup)\n",
        "    movies=soup.find('div',class_=\"lister-list\").find_all('div',class_=\"lister-item mode-advanced\")\n",
        "    #print(movies)\n",
        "    for movie in movies:\n",
        "      #print(movie)\n",
        "      rank=movie.find('div',class_=\"lister-item-content\").find('span',class_=\"lister-item-index unbold text-primary\").text.replace('.',\"\")\n",
        "      name=movie.find('div',class_=\"lister-item-content\").h3.a.text\n",
        "      date=movie.find('div',class_=\"lister-item-content\").find('span',class_=\"lister-item-year text-muted unbold\").text.replace('(',\"\")\n",
        "      date=date.replace(')',\"\")\n",
        "      #rating=movie.find('div',class_=\"inline-block ratings-imdb-rating\").strong\n",
        "      #print(rating)\n",
        "      #score=movie.find('div',class_=\"lister-item-content\").find('div',class_=\"ratings-bar\").find('div',class_=\"inline-block ratings-metascore\").span.text\n",
        "      #print(score)\n",
        "      time=movie.find('div',class_=\"lister-item-content\").p.find('span',class_=\"runtime\").text\n",
        "      genre=movie.find('div',class_=\"lister-item-content\").p.find('span',class_=\"genre\").text.replace(' ',\"\")\n",
        "      director=movie.find('div',class_=\"lister-item-content\").find('p',class_=\"\").a.text\n",
        "\n",
        "      #print(rank,name,date,time,genre,director)\n",
        "      sheet.append([rank,name,date,time,genre,director])\n",
        "\n",
        "except Exception as e:\n",
        "    print(e)\n",
        "\n",
        "excel.save(\"Top horror Movies.xlsx\")\n"
      ]
    },
    {
      "cell_type": "code",
      "execution_count": null,
      "metadata": {
        "id": "19BnDYJKTN-3"
      },
      "outputs": [],
      "source": []
    }
  ],
  "metadata": {
    "colab": {
      "provenance": []
    },
    "kernelspec": {
      "display_name": "Python 3",
      "name": "python3"
    },
    "language_info": {
      "name": "python"
    }
  },
  "nbformat": 4,
  "nbformat_minor": 0
}
